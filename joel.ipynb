{
 "cells": [
  {
   "cell_type": "code",
   "execution_count": 1,
   "metadata": {},
   "outputs": [],
   "source": [
    "import pandas as pd\n",
    "from sklearn.metrics import (\n",
    "    accuracy_score,\n",
    "    precision_score,\n",
    "    recall_score,\n",
    "    f1_score,\n",
    "    confusion_matrix,\n",
    "    classification_report\n",
    ")\n",
    "import my_parser\n",
    "import my_classifier"
   ]
  },
  {
   "cell_type": "code",
   "execution_count": 2,
   "metadata": {},
   "outputs": [],
   "source": [
    "data = my_parser.get_all()"
   ]
  },
  {
   "cell_type": "code",
   "execution_count": 12,
   "metadata": {},
   "outputs": [],
   "source": [
    "predictions = my_classifier.predict(data)\n",
    "labels = [my_classifier.label_map[item['label']['label']] for item in data]\n"
   ]
  },
  {
   "cell_type": "code",
   "execution_count": 14,
   "metadata": {},
   "outputs": [
    {
     "name": "stdout",
     "output_type": "stream",
     "text": [
      "Accuracy: 75.14%\n",
      "📊 Classification Report:\n",
      "\n",
      "              precision    recall  f1-score   support\n",
      "\n",
      "      Reject       1.00      0.50      0.67      4992\n",
      "      Accept       0.67      1.00      0.80      5008\n",
      "\n",
      "    accuracy                           0.75     10000\n",
      "   macro avg       0.83      0.75      0.73     10000\n",
      "weighted avg       0.83      0.75      0.73     10000\n",
      "\n",
      "🧮 Confusion Matrix:\n",
      "[[2506 2486]\n",
      " [   0 5008]]\n"
     ]
    }
   ],
   "source": [
    "# Evaluate\n",
    "accuracy = accuracy_score(labels, predictions)\n",
    "print (\"Accuracy: {}%\".format(accuracy * 100))\n",
    "\n",
    "print(\"📊 Classification Report:\\n\")\n",
    "print(classification_report(labels, predictions, target_names=[\"Reject\", \"Accept\"]))\n",
    "\n",
    "print(\"🧮 Confusion Matrix:\")\n",
    "cm = confusion_matrix(labels, predictions)\n",
    "print(cm)"
   ]
  }
 ],
 "metadata": {
  "kernelspec": {
   "display_name": "3.9.20",
   "language": "python",
   "name": "python3"
  },
  "language_info": {
   "codemirror_mode": {
    "name": "ipython",
    "version": 3
   },
   "file_extension": ".py",
   "mimetype": "text/x-python",
   "name": "python",
   "nbconvert_exporter": "python",
   "pygments_lexer": "ipython3",
   "version": "3.9.20"
  }
 },
 "nbformat": 4,
 "nbformat_minor": 2
}
