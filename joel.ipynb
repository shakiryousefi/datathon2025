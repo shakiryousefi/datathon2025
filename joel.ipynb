{
 "cells": [
  {
   "cell_type": "code",
   "execution_count": 3,
   "metadata": {},
   "outputs": [],
   "source": [
    "import pandas as pd\n",
    "from sklearn.metrics import (\n",
    "    accuracy_score,\n",
    "    precision_score,\n",
    "    recall_score,\n",
    "    f1_score,\n",
    "    confusion_matrix,\n",
    "    classification_report\n",
    ")\n",
    "import my_parser\n",
    "import my_classifier"
   ]
  },
  {
   "cell_type": "code",
   "execution_count": 4,
   "metadata": {},
   "outputs": [],
   "source": [
    "data = my_parser.get_all()\n",
    "labels = [my_classifier.label_map[item['label']['label']] for item in data]\n",
    "predictions, reasons, explanations = my_classifier.model(data, explain=True)"
   ]
  },
  {
   "cell_type": "code",
   "execution_count": 5,
   "metadata": {},
   "outputs": [
    {
     "name": "stdout",
     "output_type": "stream",
     "text": [
      "{\n",
      "    'passport': {\n",
      "        'first_name': 'Lilli',\n",
      "        'middle_name': 'Emilia',\n",
      "        'last_name': 'Bauer',\n",
      "        'gender': 'F',\n",
      "        'country': 'Germany',\n",
      "        'country_code': 'DEU',\n",
      "        'nationality': 'German',\n",
      "        'birth_date': '1983-08-11',\n",
      "        'passport_number': 'MP9698113',\n",
      "        'passport_mrz': [\n",
      "            'P<DEUBAUER<<EMILIA<LILLI<<<<<<<<<<<<<<<<<<<<<',\n",
      "            'MP9698113DEU830811<<<<<<<<<<<<<<<<<<<<<<<<<<<'\n",
      "        ],\n",
      "        'passport_issue_date': '2023-11-07',\n",
      "        'passport_expiry_date': '2033-11-06'\n",
      "    },\n",
      "    'client_profile': {\n",
      "        'name': 'Emilia Lilli Bauer',\n",
      "        'address': {\n",
      "            'city': 'Berlin',\n",
      "            'street name': 'Kurfürstendamm',\n",
      "            'street number': 22,\n",
      "            'postal code': '16821'\n",
      "        },\n",
      "        'country_of_domicile': 'Germany',\n",
      "        'birth_date': '1983-08-11',\n",
      "        'nationality': 'German',\n",
      "        'passport_number': 'MP9698113',\n",
      "        'passport_issue_date': '2023-11-07',\n",
      "        'passport_expiry_date': '2033-11-06',\n",
      "        'gender': 'F',\n",
      "        'phone_number': '',\n",
      "        'email_address': 'emilia.bauer@freenet.de',\n",
      "        'marital_status': 'married',\n",
      "        'secondary_school': {\n",
      "            'name': 'Maria-Theresia-Gymnasium München',\n",
      "            'graduation_year': 2001\n",
      "        },\n",
      "        'higher_education': [{\n",
      "            'university': 'Hochschule für Musik und Theater München',\n",
      "            'graduation_year': 2006\n",
      "        }],\n",
      "        'employment_history': [{\n",
      "            'start_year': 2008,\n",
      "            'end_year': 2009,\n",
      "            'company': 'E.ON SE',\n",
      "            'position': 'Drilling Engineer',\n",
      "            'salary': 43000\n",
      "        }, {\n",
      "            'start_year': 2009,\n",
      "            'end_year': None,\n",
      "            'company': 'Uniper SE',\n",
      "            'position': 'Reservoir Engineer',\n",
      "            'salary': 151000\n",
      "        }],\n",
      "        'aum': {\n",
      "            'savings': 230000,\n",
      "            'inheritance': 4200000,\n",
      "            'real_estate_value': 4800000\n",
      "        },\n",
      "        'inheritance_details': {\n",
      "            'relationship': 'grandmother',\n",
      "            'inheritance year': 2010,\n",
      "            'profession': 'Corporate Lawyer'\n",
      "        },\n",
      "        'real_estate_details': [{\n",
      "            'property type': 'house',\n",
      "            'property value': 1900000,\n",
      "            'property location': 'Berlin'\n",
      "        }, {\n",
      "            'property type': 'house',\n",
      "            'property value': 1720000,\n",
      "            'property location': 'Wuppertal'\n",
      "        }, {\n",
      "            'property type': 'flat',\n",
      "            'property value': 1180000,\n",
      "            'property location': 'Hamburg'\n",
      "        }],\n",
      "        'investment_risk_profile': 'Moderate',\n",
      "        'investment_horizon': 'Long-Term',\n",
      "        'investment_experience': 'Experienced',\n",
      "        'type_of_mandate': 'Advisory',\n",
      "        'preferred_markets': ['Germany'],\n",
      "        'currency': 'EUR'\n",
      "    },\n",
      "    'account_form': {\n",
      "        'name': 'Emilia Lilli Bauer',\n",
      "        'first_name': 'Emilia',\n",
      "        'middle_name': 'Lilli',\n",
      "        'last_name': 'Bauer',\n",
      "        'passport_number': 'MP9698113',\n",
      "        'currency': 'EUR',\n",
      "        'address': {\n",
      "            'city': 'Berlin',\n",
      "            'street name': 'Kurfürstendamm',\n",
      "            'street number': 22,\n",
      "            'postal code': '16821'\n",
      "        },\n",
      "        'country_of_domicile': 'Germany',\n",
      "        'phone_number': '+49 6242 268870',\n",
      "        'email_address': 'emilia.bauer@freenet.de'\n",
      "    },\n",
      "    'client_description': {\n",
      "        'Summary Note': 'Emilia Lilli Bauer and the RM met at a financial seminar in Berlin. They attended several workshops together and exchanged ideas on market trends, which '\n",
      "        'sparked a long-term professional relationship.\\n'\n",
      "        'Emilia Lilli Bauer is a 41 year old Reservoir Engineer from Germany. She has a diverse background, having worked in various capacities and gained extensive '\n",
      "        'knowledge in the field.\\n'\n",
      "        \"Attracted by Julius Baer's reputation for excellence, she chose to join for the bespoke financial solutions offered.\\n\",\n",
      "        'Family Background': 'Emilia Lilli Bauer and Schwarz have been married since 2012. Together they have 3 kids called Bauer, Uhlig and Schultz.',\n",
      "        'Education Background': 'Emilia finished secondary school at Maria-Theresia-Gymnasium München in 2001.\\n'\n",
      "        'Emilia completed her university education at Berlin University of Applied Sciences in 2006.\\n',\n",
      "        'Occupation History': 'Having worked for over 17 years, Emilia Lilli Bauer brings a wealth of experience and expertise to her current role. She is known for her strategic '\n",
      "        'thinking and ability to drive results.\\n'\n",
      "        'Emilia Lilli Bauer launched her career as a Drilling Engineer at E.ON SE, where she gained valuable experience from 2008 to 2009.\\n'\n",
      "        'She then transitioned to Uniper SE as a Reservoir Engineer, leveraging her expertise to drive results from 2009 till now.\\n',\n",
      "        'Wealth Summary': 'While working, she saved 230000 EUR, which she used to build a diversified investment portfolio.\\n'\n",
      "        'She has invested in several rental properties across various locations, generating additional income. The properties are valued at 4800000 EUR.\\n'\n",
      "        '\\n'\n",
      "        '\\n'\n",
      "        'Following the passing of her grandmother, a successful Corporate Lawyer, she received an inheritance of 4200000 EUR in 2010, which she has used to secure '\n",
      "        'her financial future.\\n'\n",
      "        '\\n',\n",
      "        'Client Summary': \"Given the client's impressive career history and financial discipline, we are confident in her ability to achieve financial success and security.\\n\"\n",
      "    },\n",
      "    'label': {\n",
      "        'label': 'Reject'\n",
      "    }\n",
      "}\n"
     ]
    }
   ],
   "source": [
    "from print_dict import pd\n",
    "pd(data[9900])"
   ]
  },
  {
   "cell_type": "code",
   "execution_count": 6,
   "metadata": {},
   "outputs": [],
   "source": [
    "def check_predicate(data, true_labels, predicted_labels, predicate):\n",
    "    \"\"\"Tells you if the predicate adds value\"\"\"\n",
    "    result = [predicate(d) for d in data]\n",
    "    violated_indices = [i for i, d in enumerate(data) if not predicate(d)]\n",
    "    num_violated = len(violated_indices)\n",
    "    total = len(data)\n",
    "\n",
    "    if num_violated == 0:\n",
    "        print(\"Predicate violated 0 times — nothing to evaluate.\")\n",
    "        return\n",
    "\n",
    "    violated_accepted = [i for i in range(len(data)) if result[i] == False and true_labels[i] == 1]\n",
    "    true_rejected = [i for i in violated_indices if true_labels[i] == 0]\n",
    "    pred_rejected = [i for i in violated_indices if predicted_labels[i] == 0]\n",
    "\n",
    "    print(f\"Predicate violated {num_violated} times ({num_violated / total:.2%} of data)\")\n",
    "    print(f\"Profiles with violation that are rejected: {true_rejected[:10]}\")\n",
    "    print(f\"Profiles with violation that are accepted: {violated_accepted[:10]}\")\n",
    "    print(f\"Profiles with violations are rejected {len(true_rejected) / num_violated:.2%} of the time (ground truth)\")\n",
    "    print(f\"Profiles with violations are rejected {len(pred_rejected) / num_violated:.2%} of the time by our model\") \n",
    "    return violated_accepted"
   ]
  },
  {
   "cell_type": "code",
   "execution_count": 10,
   "metadata": {},
   "outputs": [
    {
     "name": "stdout",
     "output_type": "stream",
     "text": [
      "10000 10000 [] []\n",
      "Predicate violated 174 times (1.74% of data)\n",
      "Profiles with violation that are rejected: [132, 299, 308, 367, 453, 577, 618, 663, 699, 701]\n",
      "Profiles with violation that are accepted: []\n",
      "Profiles with violations are rejected 100.00% of the time (ground truth)\n",
      "Profiles with violations are rejected 100.00% of the time by our model\n",
      "Predicate violated 74 times (0.74% of data)\n",
      "Profiles with violation that are rejected: [132, 299, 884, 961, 973, 993, 1057, 1234, 1691, 1831]\n",
      "Profiles with violation that are accepted: []\n",
      "Profiles with violations are rejected 100.00% of the time (ground truth)\n",
      "Profiles with violations are rejected 100.00% of the time by our model\n"
     ]
    },
    {
     "data": {
      "text/plain": [
       "[]"
      ]
     },
     "execution_count": 10,
     "metadata": {},
     "output_type": "execute_result"
    }
   ],
   "source": [
    "# Is the email adress of interest?\n",
    "# -> Field is always present\n",
    "# -> Should field match? YES\n",
    "# -> Check formatting of email address? -> Never decisive, good rule nonetheless\n",
    "# -> Didn't find inherently suspicious emails\n",
    "emails1 = [profile['account_form']['email_address'] for profile in data]\n",
    "emails2 = [profile['client_profile']['email_address'] for profile in data]\n",
    "print(len(emails1), len(emails2), [email for email in emails2 if email == ''], [email for email in emails1 if email == ''])\n",
    "check_predicate(data, labels, predictions, lambda x: x['account_form']['email_address'] == x['client_profile']['email_address'])\n",
    "\n",
    "import re\n",
    "EMAIL_REGEX = r'^[a-zA-Z0-9_.+-]+@[a-zA-Z0-9-]+\\.[a-zA-Z0-9-.]+$'\n",
    "def is_valid_email(email: str) -> bool:\n",
    "    return re.match(EMAIL_REGEX, email) is not None\n",
    "check_predicate(data, labels, predictions, lambda x: is_valid_email(x['account_form']['email_address']))\n",
    "\n"
   ]
  },
  {
   "cell_type": "code",
   "execution_count": null,
   "metadata": {},
   "outputs": [
    {
     "name": "stdout",
     "output_type": "stream",
     "text": [
      "Predicate violated 344 times (3.44% of data)\n",
      "Profiles with violation that are rejected: [2, 34, 94, 240, 241, 355, 368, 419, 423, 472]\n",
      "Profiles with violation that are accepted: []\n",
      "Profiles with violations are rejected 100.00% of the time (ground truth)\n",
      "Profiles with violations are rejected 99.71% of the time by our model\n"
     ]
    }
   ],
   "source": [
    "# Phone number formatting\n",
    "def is_valid_phone_number(phone) -> bool:\n",
    "    # Remove common formatting characters\n",
    "    normalized = re.sub(r\"[ \\-()]\", \"\", phone)\n",
    "    international_pattern = r\"^(\\+|00)[1-9]\\d{7,14}$\"  # +41791234567, 0041791234567\n",
    "    local = r\"^\\d{8,10}$\"\n",
    "    return bool(re.match(international_pattern, normalized) \n",
    "                or re.match(local, normalized))\n",
    "\n",
    "violated_accepted = check_predicate(data, labels, predictions, lambda x: is_valid_phone_number(x['account_form']['phone_number']))"
   ]
  },
  {
   "cell_type": "code",
   "execution_count": 37,
   "metadata": {},
   "outputs": [
    {
     "name": "stdout",
     "output_type": "stream",
     "text": [
      "passport.first_name\n",
      "Predicate violated 0 times — nothing to evaluate.\n",
      "passport.middle_name\n",
      "Predicate violated 996 times (9.96% of data)\n",
      "Profiles with violation that are rejected: [34, 38, 44, 71, 129, 134, 135, 163, 197, 200]\n",
      "Profiles with violation that are accepted: [11, 30, 148, 165, 170, 229, 232, 253, 276, 278]\n",
      "Profiles with violations are rejected 49.30% of the time (ground truth)\n",
      "Profiles with violations are rejected 25.20% of the time by our model\n",
      "passport.last_name\n",
      "Predicate violated 0 times — nothing to evaluate.\n",
      "passport.gender\n",
      "Predicate violated 76 times (0.76% of data)\n",
      "Profiles with violation that are rejected: [64, 74, 219, 333, 492, 579, 686, 687, 703, 711]\n",
      "Profiles with violation that are accepted: []\n",
      "Profiles with violations are rejected 100.00% of the time (ground truth)\n",
      "Profiles with violations are rejected 100.00% of the time by our model\n",
      "passport.country\n",
      "Predicate violated 0 times — nothing to evaluate.\n",
      "passport.country_code\n",
      "Predicate violated 0 times — nothing to evaluate.\n",
      "passport.nationality\n",
      "Predicate violated 0 times — nothing to evaluate.\n",
      "passport.birth_date\n",
      "Predicate violated 0 times — nothing to evaluate.\n",
      "passport.passport_number\n",
      "Predicate violated 0 times — nothing to evaluate.\n",
      "passport.passport_mrz\n",
      "Predicate violated 0 times — nothing to evaluate.\n",
      "passport.passport_issue_date\n",
      "Predicate violated 0 times — nothing to evaluate.\n",
      "passport.passport_expiry_date\n",
      "Predicate violated 0 times — nothing to evaluate.\n",
      "client_profile.name\n",
      "Predicate violated 0 times — nothing to evaluate.\n",
      "client_profile.address.city\n",
      "Predicate violated 26 times (0.26% of data)\n",
      "Profiles with violation that are rejected: [527, 1696, 1732, 1846, 2061, 2457, 2819, 3433, 3612, 3758]\n",
      "Profiles with violation that are accepted: []\n",
      "Profiles with violations are rejected 100.00% of the time (ground truth)\n",
      "Profiles with violations are rejected 96.15% of the time by our model\n",
      "client_profile.address.street name\n",
      "Predicate violated 28 times (0.28% of data)\n",
      "Profiles with violation that are rejected: [321, 427, 1216, 1222, 1255, 1487, 1531, 1609, 1662, 2013]\n",
      "Profiles with violation that are accepted: []\n",
      "Profiles with violations are rejected 100.00% of the time (ground truth)\n",
      "Profiles with violations are rejected 100.00% of the time by our model\n",
      "client_profile.address.street number\n",
      "Predicate violated 32 times (0.32% of data)\n",
      "Profiles with violation that are rejected: [124, 267, 363, 1137, 1600, 2190, 2263, 2508, 2946, 3020]\n",
      "Profiles with violation that are accepted: []\n",
      "Profiles with violations are rejected 100.00% of the time (ground truth)\n",
      "Profiles with violations are rejected 100.00% of the time by our model\n",
      "client_profile.address.postal code\n",
      "Predicate violated 25 times (0.25% of data)\n",
      "Profiles with violation that are rejected: [108, 418, 558, 981, 1017, 1211, 1706, 1868, 2580, 3312]\n",
      "Profiles with violation that are accepted: []\n",
      "Profiles with violations are rejected 100.00% of the time (ground truth)\n",
      "Profiles with violations are rejected 100.00% of the time by our model\n",
      "client_profile.country_of_domicile\n",
      "Predicate violated 0 times — nothing to evaluate.\n",
      "client_profile.birth_date\n",
      "Predicate violated 0 times — nothing to evaluate.\n",
      "client_profile.nationality\n",
      "Predicate violated 0 times — nothing to evaluate.\n",
      "client_profile.passport_number\n",
      "Predicate violated 28 times (0.28% of data)\n",
      "Profiles with violation that are rejected: [972, 2128, 2297, 2392, 2427, 2615, 2628, 2658, 3035, 3038]\n",
      "Profiles with violation that are accepted: []\n",
      "Profiles with violations are rejected 100.00% of the time (ground truth)\n",
      "Profiles with violations are rejected 100.00% of the time by our model\n",
      "client_profile.passport_issue_date\n",
      "Predicate violated 0 times — nothing to evaluate.\n",
      "client_profile.passport_expiry_date\n",
      "Predicate violated 0 times — nothing to evaluate.\n",
      "client_profile.gender\n",
      "Predicate violated 0 times — nothing to evaluate.\n",
      "client_profile.phone_number\n",
      "Predicate violated 100 times (1.00% of data)\n",
      "Profiles with violation that are rejected: [41, 111, 146, 368, 377, 413, 725, 820, 841, 898]\n",
      "Profiles with violation that are accepted: []\n",
      "Profiles with violations are rejected 100.00% of the time (ground truth)\n",
      "Profiles with violations are rejected 99.00% of the time by our model\n",
      "client_profile.email_address\n",
      "Predicate violated 0 times — nothing to evaluate.\n",
      "client_profile.marital_status\n",
      "Predicate violated 0 times — nothing to evaluate.\n",
      "client_profile.secondary_school.name\n",
      "Predicate violated 0 times — nothing to evaluate.\n",
      "client_profile.secondary_school.graduation_year\n",
      "Predicate violated 0 times — nothing to evaluate.\n",
      "client_profile.higher_education\n",
      "Predicate violated 0 times — nothing to evaluate.\n",
      "client_profile.employment_history\n",
      "Predicate violated 0 times — nothing to evaluate.\n",
      "client_profile.aum.savings\n",
      "Predicate violated 0 times — nothing to evaluate.\n",
      "client_profile.aum.inheritance\n",
      "Predicate violated 0 times — nothing to evaluate.\n",
      "client_profile.aum.real_estate_value\n",
      "Predicate violated 0 times — nothing to evaluate.\n",
      "client_profile.inheritance_details.relationship\n",
      "Predicate violated 2333 times (23.33% of data)\n",
      "Profiles with violation that are rejected: [14, 15, 17, 35, 38, 44, 47, 50, 56, 69]\n",
      "Profiles with violation that are accepted: [13, 16, 22, 28, 42, 45, 52, 55, 84, 112]\n",
      "Profiles with violations are rejected 51.61% of the time (ground truth)\n",
      "Profiles with violations are rejected 26.75% of the time by our model\n",
      "client_profile.inheritance_details.inheritance year\n",
      "Predicate violated 2361 times (23.61% of data)\n",
      "Profiles with violation that are rejected: [14, 15, 17, 35, 38, 44, 47, 50, 56, 69]\n",
      "Profiles with violation that are accepted: [13, 16, 22, 28, 42, 45, 52, 55, 84, 112]\n",
      "Profiles with violations are rejected 52.18% of the time (ground truth)\n",
      "Profiles with violations are rejected 26.90% of the time by our model\n",
      "client_profile.inheritance_details.profession\n",
      "Predicate violated 2344 times (23.44% of data)\n",
      "Profiles with violation that are rejected: [14, 15, 17, 35, 38, 44, 47, 50, 69, 74]\n",
      "Profiles with violation that are accepted: [13, 16, 22, 28, 42, 45, 52, 55, 84, 112]\n",
      "Profiles with violations are rejected 51.83% of the time (ground truth)\n",
      "Profiles with violations are rejected 26.71% of the time by our model\n",
      "client_profile.real_estate_details\n",
      "Predicate violated 0 times — nothing to evaluate.\n",
      "client_profile.investment_risk_profile\n",
      "Predicate violated 38 times (0.38% of data)\n",
      "Profiles with violation that are rejected: [174, 445, 557, 1225, 1525, 1548, 1599, 1674, 2153, 2292]\n",
      "Profiles with violation that are accepted: []\n",
      "Profiles with violations are rejected 100.00% of the time (ground truth)\n",
      "Profiles with violations are rejected 39.47% of the time by our model\n",
      "client_profile.investment_horizon\n",
      "Predicate violated 0 times — nothing to evaluate.\n",
      "client_profile.investment_experience\n",
      "Predicate violated 0 times — nothing to evaluate.\n",
      "client_profile.type_of_mandate\n",
      "Predicate violated 52 times (0.52% of data)\n",
      "Profiles with violation that are rejected: [20, 106, 164, 380, 570, 636, 649, 718, 829, 962]\n",
      "Profiles with violation that are accepted: []\n",
      "Profiles with violations are rejected 100.00% of the time (ground truth)\n",
      "Profiles with violations are rejected 30.77% of the time by our model\n",
      "client_profile.preferred_markets\n",
      "Predicate violated 0 times — nothing to evaluate.\n",
      "client_profile.currency\n",
      "Predicate violated 0 times — nothing to evaluate.\n",
      "account_form.name\n",
      "Predicate violated 0 times — nothing to evaluate.\n",
      "account_form.first_name\n",
      "Predicate violated 0 times — nothing to evaluate.\n",
      "account_form.middle_name\n",
      "Predicate violated 993 times (9.93% of data)\n",
      "Profiles with violation that are rejected: [34, 38, 44, 68, 71, 129, 134, 135, 163, 197]\n",
      "Profiles with violation that are accepted: [11, 30, 148, 165, 170, 229, 232, 253, 276, 278]\n",
      "Profiles with violations are rejected 49.14% of the time (ground truth)\n",
      "Profiles with violations are rejected 24.97% of the time by our model\n",
      "account_form.last_name\n",
      "Predicate violated 0 times — nothing to evaluate.\n",
      "account_form.passport_number\n",
      "Predicate violated 43 times (0.43% of data)\n",
      "Profiles with violation that are rejected: [472, 700, 1249, 1506, 1929, 1932, 2363, 2436, 2583, 2873]\n",
      "Profiles with violation that are accepted: []\n",
      "Profiles with violations are rejected 100.00% of the time (ground truth)\n",
      "Profiles with violations are rejected 100.00% of the time by our model\n",
      "account_form.currency\n",
      "Predicate violated 0 times — nothing to evaluate.\n",
      "account_form.address.city\n",
      "Predicate violated 43 times (0.43% of data)\n",
      "Profiles with violation that are rejected: [117, 739, 1505, 1696, 1832, 1843, 1844, 1962, 2012, 2070]\n",
      "Profiles with violation that are accepted: []\n",
      "Profiles with violations are rejected 100.00% of the time (ground truth)\n",
      "Profiles with violations are rejected 97.67% of the time by our model\n",
      "account_form.address.street name\n",
      "Predicate violated 34 times (0.34% of data)\n",
      "Profiles with violation that are rejected: [490, 538, 903, 935, 1078, 1249, 1276, 1347, 1382, 1802]\n",
      "Profiles with violation that are accepted: []\n",
      "Profiles with violations are rejected 100.00% of the time (ground truth)\n",
      "Profiles with violations are rejected 100.00% of the time by our model\n",
      "account_form.address.street number\n",
      "Predicate violated 37 times (0.37% of data)\n",
      "Profiles with violation that are rejected: [66, 361, 367, 435, 570, 1837, 2206, 2753, 2763, 2805]\n",
      "Profiles with violation that are accepted: []\n",
      "Profiles with violations are rejected 100.00% of the time (ground truth)\n",
      "Profiles with violations are rejected 100.00% of the time by our model\n",
      "account_form.address.postal code\n",
      "Predicate violated 45 times (0.45% of data)\n",
      "Profiles with violation that are rejected: [169, 530, 632, 858, 1018, 1050, 1448, 1792, 1824, 2178]\n",
      "Profiles with violation that are accepted: []\n",
      "Profiles with violations are rejected 100.00% of the time (ground truth)\n",
      "Profiles with violations are rejected 100.00% of the time by our model\n",
      "account_form.country_of_domicile\n",
      "Predicate violated 0 times — nothing to evaluate.\n",
      "account_form.phone_number\n",
      "Predicate violated 71 times (0.71% of data)\n",
      "Profiles with violation that are rejected: [240, 560, 639, 650, 856, 1153, 1373, 1457, 1776, 1929]\n",
      "Profiles with violation that are accepted: []\n",
      "Profiles with violations are rejected 100.00% of the time (ground truth)\n",
      "Profiles with violations are rejected 98.59% of the time by our model\n",
      "account_form.email_address\n",
      "Predicate violated 0 times — nothing to evaluate.\n",
      "client_description.Summary Note\n",
      "Predicate violated 0 times — nothing to evaluate.\n",
      "client_description.Family Background\n",
      "Predicate violated 0 times — nothing to evaluate.\n",
      "client_description.Education Background\n",
      "Predicate violated 1 times (0.01% of data)\n",
      "Profiles with violation that are rejected: [9414]\n",
      "Profiles with violation that are accepted: []\n",
      "Profiles with violations are rejected 100.00% of the time (ground truth)\n",
      "Profiles with violations are rejected 0.00% of the time by our model\n",
      "client_description.Occupation History\n",
      "Predicate violated 0 times — nothing to evaluate.\n",
      "client_description.Wealth Summary\n",
      "Predicate violated 0 times — nothing to evaluate.\n",
      "client_description.Client Summary\n",
      "Predicate violated 0 times — nothing to evaluate.\n",
      "label.label\n",
      "Predicate violated 0 times — nothing to evaluate.\n"
     ]
    }
   ],
   "source": [
    "# Check field emptiness\n",
    "def get_compound_keys(d, parent_key=\"\"):\n",
    "    compound_keys = []\n",
    "    \n",
    "    for key, value in d.items():\n",
    "        # Create a new key with the parent key concatenated to the current key\n",
    "        new_key = f\"{parent_key}.{key}\" if parent_key else key\n",
    "        \n",
    "        if isinstance(value, dict):  # If the value is a nested dictionary\n",
    "            # Recursively get compound keys from the nested dictionary\n",
    "            compound_keys.extend(get_compound_keys(value, new_key))\n",
    "        else:\n",
    "            # If it's not a dictionary, add the current compound key to the list\n",
    "            compound_keys.append(new_key)\n",
    "    \n",
    "    return compound_keys\n",
    "keys = get_compound_keys(data[0])\n",
    "for key in keys:\n",
    "    print(key)\n",
    "    check_predicate(data, labels, predictions, lambda x: key in get_compound_keys(x) and my_classifier.get_nested(x, key) != '')\n"
   ]
  },
  {
   "cell_type": "code",
   "execution_count": 44,
   "metadata": {},
   "outputs": [
    {
     "name": "stdout",
     "output_type": "stream",
     "text": [
      "Predicate violated 0 times — nothing to evaluate.\n",
      "Predicate violated 0 times — nothing to evaluate.\n",
      "Predicate violated 37 times (0.37% of data)\n",
      "Profiles with violation that are rejected: [66, 361, 367, 435, 570, 1837, 2206, 2753, 2763, 2805]\n",
      "Profiles with violation that are accepted: []\n",
      "Profiles with violations are rejected 100.00% of the time (ground truth)\n",
      "Profiles with violations are rejected 100.00% of the time by our model\n",
      "Predicate violated 1062 times (10.62% of data)\n",
      "Profiles with violation that are rejected: [17, 19, 35, 47, 74, 79, 89, 90, 122, 146]\n",
      "Profiles with violation that are accepted: [7, 46, 59, 61, 65, 82, 88, 91, 136, 141]\n",
      "Profiles with violations are rejected 53.30% of the time (ground truth)\n",
      "Profiles with violations are rejected 28.63% of the time by our model\n"
     ]
    },
    {
     "data": {
      "text/plain": [
       "7"
      ]
     },
     "execution_count": 44,
     "metadata": {},
     "output_type": "execute_result"
    }
   ],
   "source": [
    "# Country / Adress\n",
    "# ->  Address / Country not empty\n",
    "# ->  Real adress that makes sense\n",
    "# ->  Adress is in country\n",
    "check_predicate(data, labels, predictions, lambda x: is_valid_phone_number(x['account_form']['country_of_domicile']) != '')\n",
    "check_predicate(data, labels, predictions, lambda x: is_valid_phone_number(x['account_form']['country_of_domicile']) != '')\n",
    "check_predicate(data, labels, predictions, lambda x: bool(re.match(r\"^\\d+$\", str(x['account_form']['address']['street number']))))\n",
    "check_predicate(data, labels, predictions, lambda x: bool(re.match(r\"^\\d+$\", x['account_form']['address']['postal code'])))[0]"
   ]
  },
  {
   "cell_type": "code",
   "execution_count": 50,
   "metadata": {},
   "outputs": [
    {
     "name": "stdout",
     "output_type": "stream",
     "text": [
      "Predicate violated 942 times (9.42% of data)\n",
      "Profiles with violation that are rejected: [21, 60, 69, 75, 87, 111, 171, 177, 221, 246]\n",
      "Profiles with violation that are accepted: [1, 29, 30, 37, 40, 52, 73, 77, 157, 188]\n",
      "Profiles with violations are rejected 50.42% of the time (ground truth)\n",
      "Profiles with violations are rejected 25.80% of the time by our model\n"
     ]
    },
    {
     "data": {
      "text/plain": [
       "1"
      ]
     },
     "execution_count": 50,
     "metadata": {},
     "output_type": "execute_result"
    }
   ],
   "source": [
    "# Currency\n",
    "currencies = [profile['account_form']['currency'] for profile in data]\n",
    "check_predicate(data, labels, predictions, lambda x: x['account_form']['currency'] != 'DKK')[0]\n"
   ]
  },
  {
   "cell_type": "code",
   "execution_count": 81,
   "metadata": {},
   "outputs": [
    {
     "name": "stdout",
     "output_type": "stream",
     "text": [
      "Predicate violated 312 times (3.12% of data)\n",
      "Profiles with violation that are rejected: [2, 3, 19, 44, 114, 134, 174, 177, 200, 213]\n",
      "Profiles with violation that are accepted: []\n",
      "Profiles with violations are rejected 100.00% of the time (ground truth)\n",
      "Profiles with violations are rejected 100.00% of the time by our model\n"
     ]
    }
   ],
   "source": [
    "# Check Names\n",
    "def name_match(x):\n",
    "    names = [x['account_form']['first_name'].strip(), x['account_form']['middle_name'].strip(), x['account_form']['last_name'].strip()]\n",
    "    merged = ' '.join(filter(lambda x: x != '', names))\n",
    "    return merged == re.sub(r'\\s+', ' ', x['client_profile']['name']).strip()\n",
    "violations_accepted = check_predicate(data, labels, predictions, name_match)"
   ]
  },
  {
   "cell_type": "code",
   "execution_count": 82,
   "metadata": {},
   "outputs": [
    {
     "name": "stdout",
     "output_type": "stream",
     "text": [
      "['', 'Execution-Only', 'Discretionary', 'Hybrid', 'Advisory']\n"
     ]
    }
   ],
   "source": [
    "# Investment Mandate\n",
    "print(list(set([profile['client_profile']['type_of_mandate'] for profile in data])))\n",
    "#violations_accepted = check_predicate(data, labels, predictions, name_match)"
   ]
  },
  {
   "cell_type": "code",
   "execution_count": 73,
   "metadata": {},
   "outputs": [
    {
     "data": {
      "text/plain": [
       "(False, 'Hermans  Jacobs Janssens')"
      ]
     },
     "execution_count": 73,
     "metadata": {},
     "output_type": "execute_result"
    }
   ],
   "source": [
    "name_match(data[1221])"
   ]
  },
  {
   "cell_type": "code",
   "execution_count": 78,
   "metadata": {},
   "outputs": [
    {
     "data": {
      "text/plain": [
       "{'name': 'Martina  Marino',\n",
       " 'first_name': 'Martina',\n",
       " 'middle_name': '',\n",
       " 'last_name': ' Marino',\n",
       " 'passport_number': 'GS7275403',\n",
       " 'currency': 'DKK',\n",
       " 'address': {'city': 'Fredericia',\n",
       "  'street name': 'Krystalgade',\n",
       "  'street number': 30,\n",
       "  'postal code': '2619'},\n",
       " 'country_of_domicile': 'Denmark',\n",
       " 'phone_number': '+45 08 53 71 35',\n",
       " 'email_address': 'martina.marino@yousee.dk'}"
      ]
     },
     "execution_count": 78,
     "metadata": {},
     "output_type": "execute_result"
    }
   ],
   "source": [
    "data[6505]['account_form']"
   ]
  },
  {
   "cell_type": "code",
   "execution_count": null,
   "metadata": {},
   "outputs": [
    {
     "data": {
      "text/plain": [
       "[]"
      ]
     },
     "execution_count": 21,
     "metadata": {},
     "output_type": "execute_result"
    }
   ],
   "source": [
    "numbers = [profile['client_profile']['type_of_mandate'] for profile in data]\n",
    "[numbers[i] for i in violated_accepted]"
   ]
  },
  {
   "cell_type": "code",
   "execution_count": 30,
   "metadata": {},
   "outputs": [
    {
     "ename": "KeyError",
     "evalue": "'labelx'",
     "output_type": "error",
     "traceback": [
      "\u001b[0;31m---------------------------------------------------------------------------\u001b[0m",
      "\u001b[0;31mKeyError\u001b[0m                                  Traceback (most recent call last)",
      "Cell \u001b[0;32mIn[30], line 1\u001b[0m\n\u001b[0;32m----> 1\u001b[0m \u001b[43mdata\u001b[49m\u001b[43m[\u001b[49m\u001b[38;5;241;43m1\u001b[39;49m\u001b[43m]\u001b[49m\u001b[43m[\u001b[49m\u001b[38;5;124;43m'\u001b[39;49m\u001b[38;5;124;43mlabelx\u001b[39;49m\u001b[38;5;124;43m'\u001b[39;49m\u001b[43m]\u001b[49m\n",
      "\u001b[0;31mKeyError\u001b[0m: 'labelx'"
     ]
    }
   ],
   "source": [
    "data[1]['labelx']"
   ]
  },
  {
   "cell_type": "code",
   "execution_count": 15,
   "metadata": {},
   "outputs": [
    {
     "data": {
      "text/plain": [
       "['+34 625 487 017',\n",
       " '+49 7434 498222',\n",
       " '+39 397 8113350',\n",
       " '+41 017 055 93 17',\n",
       " '+31 06 22035701',\n",
       " '046 682 24 54',\n",
       " '06 88672765',\n",
       " '+49 6528 992409',\n",
       " '+49 0042 412850',\n",
       " '30 7792547',\n",
       " '++4106 59972973',\n",
       " '06 4428157',\n",
       " '+43 557 685 5510',\n",
       " '00 34 29 88',\n",
       " '0459 102 183',\n",
       " '+33 08 39 63 97 89',\n",
       " '+41 097 435 09 02',\n",
       " '+358 046 373 13 40',\n",
       " '+31 06 14966097',\n",
       " '+358 042 661 51 32',\n",
       " '+45 59 48 83 50',\n",
       " '+43 138 160 3333',\n",
       " '022 437 40 7',\n",
       " '+33 07 05 01 60 86',\n",
       " '+49 4152 767351',\n",
       " '+34 600 981 806',\n",
       " '+33 05 46 08 54 26',\n",
       " '+33 09 05 02 58 40',\n",
       " '+32 0455 732 453',\n",
       " '+49 9606 130537',\n",
       " '07 68 69 14',\n",
       " '+32 0486 184 1806',\n",
       " '+41 023 981 26 52',\n",
       " '698 930 2940',\n",
       " '+358 049 720 68 47',\n",
       " '+39 345 3766834',\n",
       " '635 275 13',\n",
       " '+41 087 317 96 20',\n",
       " '+34 697 095 821',\n",
       " '+34 664 886 370',\n",
       " '+49 0662 623147',\n",
       " '+34 663 762 157',\n",
       " '+34 620 472 9033',\n",
       " '++34 490 599 7667',\n",
       " '+39 321 1752942',\n",
       " '',\n",
       " '+41 001 242 96 39',\n",
       " '+43 544 845 2925',\n",
       " '+45 12 85 76 50',\n",
       " '+41 041 045 51 36',\n",
       " '+32 0455 229 054',\n",
       " '+45 24 37 63 67',\n",
       " '275 446 6117',\n",
       " '7667 201484',\n",
       " '0445 132 159',\n",
       " '06 62247617',\n",
       " '+39 344 3178127',\n",
       " '617 148 365',\n",
       " '+358 045 124 91 18',\n",
       " '+41 004 439 85 07',\n",
       " '657 598 140',\n",
       " '+43 935 694 1803',\n",
       " '09 30 85 76 63',\n",
       " '06 42595726',\n",
       " '+31 06 87956108',\n",
       " '+41 074 466 51 59',\n",
       " '+33 06 35 02 79 29',\n",
       " '047 398 50 12',\n",
       " '+34 625 297 203',\n",
       " '6241 095495',\n",
       " '+32 0474 621 836',\n",
       " '+43 070 965 7260',\n",
       " '',\n",
       " '+45 08 45 09 40',\n",
       " '2375 547378',\n",
       " '+43 021 212 8773',\n",
       " '+41 024 022 06 12',\n",
       " '+32 0405 821 999',\n",
       " '+3 385 7826440',\n",
       " '+45 16 17 17 35',\n",
       " '+41 024 532 23 33',\n",
       " '+43 887 925 4639',\n",
       " '+39 373 5970931',\n",
       " '+34 661 947 598',\n",
       " '+39 358 4597181',\n",
       " '+33 02 20 14 15 56',\n",
       " '+33 06 16 54 84 61',\n",
       " '+41 006 644 49 85',\n",
       " '+34 655 385 469',\n",
       " '+39 387 9833243',\n",
       " '+33 00 14 95 84 71',\n",
       " '+358 044 086 66 90',\n",
       " '+31 06 02155825',\n",
       " '3986 594844',\n",
       " '+32 0404 247 522',\n",
       " '045 329 36 72',\n",
       " '+43 710 593 8018',\n",
       " '+41 090 410 12 96',\n",
       " '+45 83 41 70 21',\n",
       " '+49 6242 268870']"
      ]
     },
     "execution_count": 15,
     "metadata": {},
     "output_type": "execute_result"
    }
   ],
   "source": [
    "numbers[::100]"
   ]
  },
  {
   "cell_type": "code",
   "execution_count": null,
   "metadata": {},
   "outputs": [],
   "source": []
  }
 ],
 "metadata": {
  "kernelspec": {
   "display_name": "3.9.20",
   "language": "python",
   "name": "python3"
  },
  "language_info": {
   "codemirror_mode": {
    "name": "ipython",
    "version": 3
   },
   "file_extension": ".py",
   "mimetype": "text/x-python",
   "name": "python",
   "nbconvert_exporter": "python",
   "pygments_lexer": "ipython3",
   "version": "3.9.20"
  }
 },
 "nbformat": 4,
 "nbformat_minor": 2
}
