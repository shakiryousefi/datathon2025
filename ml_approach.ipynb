{
 "cells": [
  {
   "cell_type": "markdown",
   "metadata": {},
   "source": [
    "# ML Approach\n",
    "\n",
    "Manuall decisions rules are good, but they only bring you so far.\n",
    "When combinations of different variables matter it results in a huge space to test.\n",
    "\n",
    "**Idea**: Generate carefully selected set of feature and train a very light model to \"learn\" decision rules\n",
    "\n",
    "**Idea**: Our features will probably not be able to explain all the rejections. This results in a lot of \"noise\". To make the model a useful component an assymetric loss penalizing incorrectly rejected could be viable\n",
    "\n",
    "**Idea**: Boosting. Only train on the samples that we cannot reject withour our manual rules.\n"
   ]
  },
  {
   "cell_type": "markdown",
   "metadata": {},
   "source": [
    "### Crafting the dataset"
   ]
  },
  {
   "cell_type": "code",
   "execution_count": 21,
   "metadata": {},
   "outputs": [],
   "source": [
    "import my_parser\n",
    "import my_classifier\n",
    "import pandas as pd\n",
    "\n",
    "all_data = my_parser.get_all()\n",
    "all_predictions = my_classifier.predict(all_data)\n",
    "all_labels = [my_classifier.label_map[item['label']['label']] for item in all_data]"
   ]
  },
  {
   "cell_type": "code",
   "execution_count": 17,
   "metadata": {},
   "outputs": [
    {
     "name": "stdout",
     "output_type": "stream",
     "text": [
      "7454\n"
     ]
    }
   ],
   "source": [
    "indices_accepted = [i for i, pred in enumerate(all_predictions) if pred == 1]\n",
    "labels = [all_labels[i] for i in indices_accepted]\n",
    "data = [all_data[i] for i in indices_accepted]\n",
    "print(len(data))"
   ]
  },
  {
   "cell_type": "code",
   "execution_count": 34,
   "metadata": {},
   "outputs": [],
   "source": [
    "def get_investment_horizon(x):\n",
    "    risk_profile = x['client_profile']['investment_horizon']\n",
    "    if risk_profile not in ['Medium', 'Short', 'Long-Term']:\n",
    "        risk_profile = 'Short'\n",
    "    return risk_profile"
   ]
  },
  {
   "cell_type": "code",
   "execution_count": 42,
   "metadata": {},
   "outputs": [
    {
     "data": {
      "text/html": [
       "<div>\n",
       "<style scoped>\n",
       "    .dataframe tbody tr th:only-of-type {\n",
       "        vertical-align: middle;\n",
       "    }\n",
       "\n",
       "    .dataframe tbody tr th {\n",
       "        vertical-align: top;\n",
       "    }\n",
       "\n",
       "    .dataframe thead th {\n",
       "        text-align: right;\n",
       "    }\n",
       "</style>\n",
       "<table border=\"1\" class=\"dataframe\">\n",
       "  <thead>\n",
       "    <tr style=\"text-align: right;\">\n",
       "      <th></th>\n",
       "      <th>risk_profile</th>\n",
       "      <th>investment_horizon</th>\n",
       "      <th>investment_experience</th>\n",
       "      <th>type_of_mandate</th>\n",
       "    </tr>\n",
       "  </thead>\n",
       "  <tbody>\n",
       "    <tr>\n",
       "      <th>0</th>\n",
       "      <td>Considerable</td>\n",
       "      <td>Long-Term</td>\n",
       "      <td>Inexperienced</td>\n",
       "      <td>Advisory</td>\n",
       "    </tr>\n",
       "    <tr>\n",
       "      <th>1</th>\n",
       "      <td>High</td>\n",
       "      <td>Medium</td>\n",
       "      <td>Inexperienced</td>\n",
       "      <td>Advisory</td>\n",
       "    </tr>\n",
       "    <tr>\n",
       "      <th>2</th>\n",
       "      <td>Moderate</td>\n",
       "      <td>Medium</td>\n",
       "      <td>Expert</td>\n",
       "      <td>Advisory</td>\n",
       "    </tr>\n",
       "    <tr>\n",
       "      <th>3</th>\n",
       "      <td>Considerable</td>\n",
       "      <td>Long-Term</td>\n",
       "      <td>Inexperienced</td>\n",
       "      <td>Advisory</td>\n",
       "    </tr>\n",
       "    <tr>\n",
       "      <th>4</th>\n",
       "      <td>Considerable</td>\n",
       "      <td>Long-Term</td>\n",
       "      <td>Experienced</td>\n",
       "      <td>Advisory</td>\n",
       "    </tr>\n",
       "  </tbody>\n",
       "</table>\n",
       "</div>"
      ],
      "text/plain": [
       "   risk_profile investment_horizon investment_experience type_of_mandate\n",
       "0  Considerable          Long-Term         Inexperienced        Advisory\n",
       "1          High             Medium         Inexperienced        Advisory\n",
       "2      Moderate             Medium                Expert        Advisory\n",
       "3  Considerable          Long-Term         Inexperienced        Advisory\n",
       "4  Considerable          Long-Term           Experienced        Advisory"
      ]
     },
     "execution_count": 42,
     "metadata": {},
     "output_type": "execute_result"
    }
   ],
   "source": [
    "feature_functions = {\n",
    "    'risk_profile': lambda x: x['client_profile']['investment_risk_profile'],\n",
    "    'investment_horizon': get_investment_horizon,\n",
    "    'investment_experience': lambda x: x['client_profile']['investment_experience'],\n",
    "    'type_of_mandate': lambda x: x['client_profile']['type_of_mandate']\n",
    "}\n",
    "\n",
    "feature_data = []\n",
    "for entry in data:\n",
    "    mapped_entry = {key: func(entry) for key, func in feature_functions.items()}\n",
    "    feature_data.append(mapped_entry)\n",
    "\n",
    "df = pd.DataFrame(feature_data)\n",
    "df.head()"
   ]
  },
  {
   "cell_type": "code",
   "execution_count": 43,
   "metadata": {},
   "outputs": [
    {
     "data": {
      "text/html": [
       "<div>\n",
       "<style scoped>\n",
       "    .dataframe tbody tr th:only-of-type {\n",
       "        vertical-align: middle;\n",
       "    }\n",
       "\n",
       "    .dataframe tbody tr th {\n",
       "        vertical-align: top;\n",
       "    }\n",
       "\n",
       "    .dataframe thead th {\n",
       "        text-align: right;\n",
       "    }\n",
       "</style>\n",
       "<table border=\"1\" class=\"dataframe\">\n",
       "  <thead>\n",
       "    <tr style=\"text-align: right;\">\n",
       "      <th></th>\n",
       "      <th>risk_profile</th>\n",
       "      <th>investment_horizon</th>\n",
       "      <th>investment_experience</th>\n",
       "      <th>type_of_mandate</th>\n",
       "    </tr>\n",
       "  </thead>\n",
       "  <tbody>\n",
       "    <tr>\n",
       "      <th>count</th>\n",
       "      <td>7454</td>\n",
       "      <td>7454</td>\n",
       "      <td>7454</td>\n",
       "      <td>7454</td>\n",
       "    </tr>\n",
       "    <tr>\n",
       "      <th>unique</th>\n",
       "      <td>8</td>\n",
       "      <td>3</td>\n",
       "      <td>3</td>\n",
       "      <td>5</td>\n",
       "    </tr>\n",
       "    <tr>\n",
       "      <th>top</th>\n",
       "      <td>Moderate</td>\n",
       "      <td>Medium</td>\n",
       "      <td>Experienced</td>\n",
       "      <td>Advisory</td>\n",
       "    </tr>\n",
       "    <tr>\n",
       "      <th>freq</th>\n",
       "      <td>3130</td>\n",
       "      <td>3677</td>\n",
       "      <td>4073</td>\n",
       "      <td>3714</td>\n",
       "    </tr>\n",
       "  </tbody>\n",
       "</table>\n",
       "</div>"
      ],
      "text/plain": [
       "       risk_profile investment_horizon investment_experience type_of_mandate\n",
       "count          7454               7454                  7454            7454\n",
       "unique            8                  3                     3               5\n",
       "top        Moderate             Medium           Experienced        Advisory\n",
       "freq           3130               3677                  4073            3714"
      ]
     },
     "execution_count": 43,
     "metadata": {},
     "output_type": "execute_result"
    }
   ],
   "source": [
    "df.describe(include=['object'])"
   ]
  },
  {
   "cell_type": "code",
   "execution_count": 45,
   "metadata": {},
   "outputs": [
    {
     "name": "stdout",
     "output_type": "stream",
     "text": [
      "type_of_mandate\n",
      "Advisory          3714\n",
      "Discretionary     3661\n",
      "                    36\n",
      "Hybrid              24\n",
      "Execution-Only      19\n",
      "Name: count, dtype: int64\n"
     ]
    }
   ],
   "source": [
    "# Ensure that each feature is sensible\n",
    "#print(df['risk_profile'].value_counts())\n",
    "#print(df['investment_horizon'].value_counts())\n",
    "#print(df['investment_experience'].value_counts())\n",
    "print(df['type_of_mandate'].value_counts())"
   ]
  },
  {
   "cell_type": "markdown",
   "metadata": {},
   "source": [
    "### Model"
   ]
  },
  {
   "cell_type": "code",
   "execution_count": 14,
   "metadata": {},
   "outputs": [],
   "source": [
    "predictions = labels"
   ]
  },
  {
   "cell_type": "markdown",
   "metadata": {},
   "source": [
    "### Evaluation"
   ]
  },
  {
   "cell_type": "code",
   "execution_count": 18,
   "metadata": {},
   "outputs": [],
   "source": [
    "from sklearn.metrics import (\n",
    "    accuracy_score,\n",
    "    precision_score,\n",
    "    recall_score,\n",
    "    f1_score,\n",
    "    confusion_matrix,\n",
    "    classification_report\n",
    ")\n",
    "\n",
    "#def combined_model(X):\n",
    "#    y = my_classifier.predict(all_data) \n",
    "# \n",
    "\n",
    "combined_predictions = [1]*len(all_data)\n",
    "for i in range(len(all_data)):\n",
    "    if (all_predictions[i] == 0):\n",
    "        combined_predictions[i] = 0\n",
    "for j, prediction in zip(indices_accepted, predictions):\n",
    "    combined_predictions[j] = prediction\n"
   ]
  },
  {
   "cell_type": "code",
   "execution_count": 19,
   "metadata": {},
   "outputs": [
    {
     "name": "stdout",
     "output_type": "stream",
     "text": [
      "📊 Classification Report:\n",
      "\n",
      "              precision    recall  f1-score   support\n",
      "\n",
      "      Reject       1.00      1.00      1.00      4992\n",
      "      Accept       1.00      1.00      1.00      5008\n",
      "\n",
      "    accuracy                           1.00     10000\n",
      "   macro avg       1.00      1.00      1.00     10000\n",
      "weighted avg       1.00      1.00      1.00     10000\n",
      "\n"
     ]
    }
   ],
   "source": [
    "print(\"📊 Classification Report:\\n\")\n",
    "print(classification_report(all_labels, combined_predictions, target_names=[\"Reject\", \"Accept\"]))"
   ]
  }
 ],
 "metadata": {
  "kernelspec": {
   "display_name": "3.9.20",
   "language": "python",
   "name": "python3"
  },
  "language_info": {
   "codemirror_mode": {
    "name": "ipython",
    "version": 3
   },
   "file_extension": ".py",
   "mimetype": "text/x-python",
   "name": "python",
   "nbconvert_exporter": "python",
   "pygments_lexer": "ipython3",
   "version": "3.9.20"
  }
 },
 "nbformat": 4,
 "nbformat_minor": 2
}
