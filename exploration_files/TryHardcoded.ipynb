{
 "cells": [
  {
   "cell_type": "code",
   "execution_count": 2,
   "metadata": {},
   "outputs": [],
   "source": [
    "import pandas as pd\n",
    "from sklearn.metrics import (\n",
    "    accuracy_score,\n",
    "    precision_score,\n",
    "    recall_score,\n",
    "    f1_score,\n",
    "    confusion_matrix,\n",
    "    classification_report\n",
    ")\n",
    "import my_parser"
   ]
  },
  {
   "cell_type": "code",
   "execution_count": null,
   "metadata": {},
   "outputs": [],
   "source": [
    "# Assume data is X=collection of dictionaries Y = list of [0,1]\n",
    "def classifier(X):\n",
    "    \"\"\"\n",
    "    [dict] -> [0/1]\n",
    "    \"\"\"\n",
    "    # Convert the collection of dictionaries to a DataFrame\n",
    "    df = pd.DataFrame(X)\n",
    "    \n",
    "    # Add the labels to the DataFrame\n",
    "    df['label'] = Y\n",
    "    \n",
    "    return df"
   ]
  },
  {
   "cell_type": "code",
   "execution_count": null,
   "metadata": {},
   "outputs": [],
   "source": [
    "y_pred = classifier(X)"
   ]
  },
  {
   "cell_type": "code",
   "execution_count": 3,
   "metadata": {},
   "outputs": [],
   "source": [
    "data = my_parser.get_all()"
   ]
  },
  {
   "cell_type": "code",
   "execution_count": 4,
   "metadata": {},
   "outputs": [
    {
     "data": {
      "text/plain": [
       "{'passport.json': {'first_name': 'África',\n",
       "  'middle_name': 'Sofía',\n",
       "  'last_name': 'Morales',\n",
       "  'gender': 'F',\n",
       "  'country': 'Spain',\n",
       "  'country_code': 'ESP',\n",
       "  'nationality': 'Spanish',\n",
       "  'birth_date': '1996-09-21',\n",
       "  'passport_number': 'FX5186467',\n",
       "  'passport_mrz': ['P<ESPMORALES<<ÁFRICA<SOFÍA<<<<<<<<<<<<<<<<<<<',\n",
       "   'FX5186467ESP960921<<<<<<<<<<<<<<<<<<<<<<<<<<<'],\n",
       "  'passport_issue_date': '2021-08-14',\n",
       "  'passport_expiry_date': '2026-08-13'},\n",
       " 'client_profile.json': {'name': 'África Sofía Morales',\n",
       "  'address': {'city': 'Palma de Mallorca',\n",
       "   'street name': 'Calle de los Reyes Católicos',\n",
       "   'street number': 52,\n",
       "   'postal code': '15855'},\n",
       "  'country_of_domicile': 'Spain',\n",
       "  'birth_date': '1996-09-21',\n",
       "  'nationality': 'Spanish',\n",
       "  'passport_number': 'FX5186467',\n",
       "  'passport_issue_date': '2021-08-14',\n",
       "  'passport_expiry_date': '2026-08-13',\n",
       "  'gender': 'F',\n",
       "  'phone_number': '+34 625 487 017',\n",
       "  'email_address': 'africa.morales@outlook.com',\n",
       "  'marital_status': 'married',\n",
       "  'secondary_school': {'name': 'Colegio El Pilar Getafe',\n",
       "   'graduation_year': 2014},\n",
       "  'higher_education': [{'university': 'ESADE Business & Law School',\n",
       "    'graduation_year': 2019}],\n",
       "  'employment_history': [{'start_year': 2021,\n",
       "    'end_year': 2025,\n",
       "    'company': 'Transmediterránea S.A.',\n",
       "    'position': 'Ship Broker',\n",
       "    'salary': 23000}],\n",
       "  'aum': {'savings': 10000, 'inheritance': 2200000, 'real_estate_value': 0},\n",
       "  'inheritance_details': {'relationship': 'grandfather',\n",
       "   'inheritance year': 2018,\n",
       "   'profession': 'Private Equity Manager'},\n",
       "  'real_estate_details': [],\n",
       "  'investment_risk_profile': 'Considerable',\n",
       "  'investment_horizon': 'Long-Term',\n",
       "  'investment_experience': 'Inexperienced',\n",
       "  'type_of_mandate': 'Advisory',\n",
       "  'preferred_markets': ['Austria', 'Spain'],\n",
       "  'currency': 'EUR'},\n",
       " 'account_form.json': {'name': 'África Sofía Morales',\n",
       "  'first_name': 'África',\n",
       "  'middle_name': 'Sofía',\n",
       "  'last_name': 'Morales',\n",
       "  'passport_number': 'FX5186467',\n",
       "  'currency': 'EUR',\n",
       "  'address': {'city': 'Palma de Mallorca',\n",
       "   'street name': 'Calle de los Reyes Católicos',\n",
       "   'street number': 52,\n",
       "   'postal code': '15855'},\n",
       "  'country_of_domicile': 'Spain',\n",
       "  'phone_number': '+34 625 487 017',\n",
       "  'email_address': 'africa.morales@outlook.com'},\n",
       " 'client_description.json': {'Summary Note': \"África Sofía Morales and the RM were introduced at a gourmet food festival in Madrid. They shared a love for culinary arts and decided to explore investment opportunities in the food industry together.\\nÁfrica Sofía Morales is a 28 year old and comes from Spain.\\nJulius Baer's personalized approach and dedication to client success were key factors in her decision to join.\\n\",\n",
       "  'Family Background': 'África Sofía Morales has been happily married to Suárez since 2024. They do not have any children.',\n",
       "  'Education Background': 'In 2014, África graduated from Colegio El Pilar Getafe with a secondary school diploma.\\nIn 2019, África graduated from ESADE Business & Law School with a degree.\\n',\n",
       "  'Occupation History': 'África Sofía Morales is a 28 year old and comes from Spain.\\nIn 2021, África Sofía Morales started working as a Ship Broker at Transmediterránea S.A., marking the beginning of her successful career.\\n',\n",
       "  'Wealth Summary': 'While working, she saved 10000 EUR, which she used to build a diversified investment portfolio.\\nClient does not have any properties.\\nIn addition to her career success, she also received an inheritance of 2200000 EUR from her late grandfather, a renowned Private Equity Manager, in 2018.\\n',\n",
       "  'Client Summary': 'In summary, África has demonstrated a strong work ethic and financial acumen, positioning them well for the future.\\n'},\n",
       " 'label.json': {'label': 'Accept'}}"
      ]
     },
     "execution_count": 4,
     "metadata": {},
     "output_type": "execute_result"
    }
   ],
   "source": [
    "data[0]"
   ]
  },
  {
   "cell_type": "code",
   "execution_count": null,
   "metadata": {},
   "outputs": [],
   "source": []
  }
 ],
 "metadata": {
  "kernelspec": {
   "display_name": "3.9.20",
   "language": "python",
   "name": "python3"
  },
  "language_info": {
   "codemirror_mode": {
    "name": "ipython",
    "version": 3
   },
   "file_extension": ".py",
   "mimetype": "text/x-python",
   "name": "python",
   "nbconvert_exporter": "python",
   "pygments_lexer": "ipython3",
   "version": "3.9.20"
  }
 },
 "nbformat": 4,
 "nbformat_minor": 2
}
